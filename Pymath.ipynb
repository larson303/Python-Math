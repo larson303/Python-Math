{
 "cells": [
  {
   "cell_type": "markdown",
   "id": "4e205e57-da99-4ea5-87b7-749255d95287",
   "metadata": {},
   "source": [
    "# Example of Functions in Python"
   ]
  },
  {
   "cell_type": "markdown",
   "id": "15a0f0d5-7ccf-4158-8f5e-bc7a674ddc6f",
   "metadata": {},
   "source": [
    "## Example of abs function"
   ]
  },
  {
   "cell_type": "code",
   "execution_count": 4,
   "id": "b0e881bd-0f74-4f39-a599-34b9f29b9a8c",
   "metadata": {},
   "outputs": [
    {
     "data": {
      "text/plain": [
       "3.1459"
      ]
     },
     "execution_count": 4,
     "metadata": {},
     "output_type": "execute_result"
    }
   ],
   "source": [
    "abs(-3.1459)"
   ]
  }
 ],
 "metadata": {
  "kernelspec": {
   "display_name": "Python 3 (ipykernel)",
   "language": "python",
   "name": "python3"
  },
  "language_info": {
   "codemirror_mode": {
    "name": "ipython",
    "version": 3
   },
   "file_extension": ".py",
   "mimetype": "text/x-python",
   "name": "python",
   "nbconvert_exporter": "python",
   "pygments_lexer": "ipython3",
   "version": "3.11.7"
  }
 },
 "nbformat": 4,
 "nbformat_minor": 5
}
